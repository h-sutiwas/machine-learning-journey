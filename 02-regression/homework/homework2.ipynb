{
 "cells": [
  {
   "cell_type": "markdown",
   "id": "d30b1548",
   "metadata": {},
   "source": [
    "# **Homework 2**"
   ]
  },
  {
   "cell_type": "code",
   "execution_count": 1,
   "id": "430f70bc",
   "metadata": {},
   "outputs": [],
   "source": [
    "import pandas as pd\n",
    "import numpy as np\n",
    "import matplotlib.pyplot as plt\n",
    "import seaborn as sns\n",
    "\n",
    "import requests, urllib\n",
    "from tqdm import tqdm\n",
    "\n",
    "import warnings\n",
    "warnings.filterwarnings('ignore')"
   ]
  },
  {
   "cell_type": "code",
   "execution_count": 2,
   "id": "7348b4e0",
   "metadata": {},
   "outputs": [],
   "source": [
    "# url = \"https://raw.githubusercontent.com/alexeygrigorev/datasets/master/car_fuel_efficiency.csv\"\n",
    "# resp = requests.get(url)\n",
    "# car_fuel_efficiency_data = resp.content"
   ]
  },
  {
   "cell_type": "code",
   "execution_count": 3,
   "id": "94bb2608",
   "metadata": {},
   "outputs": [],
   "source": [
    "# csv_file = open('car_fuel_efficiency.csv', 'wb')\n",
    "# csv_file.write(car_fuel_efficiency_data)"
   ]
  },
  {
   "cell_type": "code",
   "execution_count": 4,
   "id": "f48e8498",
   "metadata": {},
   "outputs": [
    {
     "data": {
      "text/html": [
       "<div>\n",
       "<style scoped>\n",
       "    .dataframe tbody tr th:only-of-type {\n",
       "        vertical-align: middle;\n",
       "    }\n",
       "\n",
       "    .dataframe tbody tr th {\n",
       "        vertical-align: top;\n",
       "    }\n",
       "\n",
       "    .dataframe thead th {\n",
       "        text-align: right;\n",
       "    }\n",
       "</style>\n",
       "<table border=\"1\" class=\"dataframe\">\n",
       "  <thead>\n",
       "    <tr style=\"text-align: right;\">\n",
       "      <th></th>\n",
       "      <th>engine_displacement</th>\n",
       "      <th>num_cylinders</th>\n",
       "      <th>horsepower</th>\n",
       "      <th>vehicle_weight</th>\n",
       "      <th>acceleration</th>\n",
       "      <th>model_year</th>\n",
       "      <th>origin</th>\n",
       "      <th>fuel_type</th>\n",
       "      <th>drivetrain</th>\n",
       "      <th>num_doors</th>\n",
       "      <th>fuel_efficiency_mpg</th>\n",
       "    </tr>\n",
       "  </thead>\n",
       "  <tbody>\n",
       "    <tr>\n",
       "      <th>0</th>\n",
       "      <td>170</td>\n",
       "      <td>3.0</td>\n",
       "      <td>159.0</td>\n",
       "      <td>3413.433759</td>\n",
       "      <td>17.7</td>\n",
       "      <td>2003</td>\n",
       "      <td>Europe</td>\n",
       "      <td>Gasoline</td>\n",
       "      <td>All-wheel drive</td>\n",
       "      <td>0.0</td>\n",
       "      <td>13.231729</td>\n",
       "    </tr>\n",
       "    <tr>\n",
       "      <th>1</th>\n",
       "      <td>130</td>\n",
       "      <td>5.0</td>\n",
       "      <td>97.0</td>\n",
       "      <td>3149.664934</td>\n",
       "      <td>17.8</td>\n",
       "      <td>2007</td>\n",
       "      <td>USA</td>\n",
       "      <td>Gasoline</td>\n",
       "      <td>Front-wheel drive</td>\n",
       "      <td>0.0</td>\n",
       "      <td>13.688217</td>\n",
       "    </tr>\n",
       "    <tr>\n",
       "      <th>2</th>\n",
       "      <td>170</td>\n",
       "      <td>NaN</td>\n",
       "      <td>78.0</td>\n",
       "      <td>3079.038997</td>\n",
       "      <td>15.1</td>\n",
       "      <td>2018</td>\n",
       "      <td>Europe</td>\n",
       "      <td>Gasoline</td>\n",
       "      <td>Front-wheel drive</td>\n",
       "      <td>0.0</td>\n",
       "      <td>14.246341</td>\n",
       "    </tr>\n",
       "    <tr>\n",
       "      <th>3</th>\n",
       "      <td>220</td>\n",
       "      <td>4.0</td>\n",
       "      <td>NaN</td>\n",
       "      <td>2542.392402</td>\n",
       "      <td>20.2</td>\n",
       "      <td>2009</td>\n",
       "      <td>USA</td>\n",
       "      <td>Diesel</td>\n",
       "      <td>All-wheel drive</td>\n",
       "      <td>2.0</td>\n",
       "      <td>16.912736</td>\n",
       "    </tr>\n",
       "    <tr>\n",
       "      <th>4</th>\n",
       "      <td>210</td>\n",
       "      <td>1.0</td>\n",
       "      <td>140.0</td>\n",
       "      <td>3460.870990</td>\n",
       "      <td>14.4</td>\n",
       "      <td>2009</td>\n",
       "      <td>Europe</td>\n",
       "      <td>Gasoline</td>\n",
       "      <td>All-wheel drive</td>\n",
       "      <td>2.0</td>\n",
       "      <td>12.488369</td>\n",
       "    </tr>\n",
       "  </tbody>\n",
       "</table>\n",
       "</div>"
      ],
      "text/plain": [
       "   engine_displacement  num_cylinders  horsepower  vehicle_weight  \\\n",
       "0                  170            3.0       159.0     3413.433759   \n",
       "1                  130            5.0        97.0     3149.664934   \n",
       "2                  170            NaN        78.0     3079.038997   \n",
       "3                  220            4.0         NaN     2542.392402   \n",
       "4                  210            1.0       140.0     3460.870990   \n",
       "\n",
       "   acceleration  model_year  origin fuel_type         drivetrain  num_doors  \\\n",
       "0          17.7        2003  Europe  Gasoline    All-wheel drive        0.0   \n",
       "1          17.8        2007     USA  Gasoline  Front-wheel drive        0.0   \n",
       "2          15.1        2018  Europe  Gasoline  Front-wheel drive        0.0   \n",
       "3          20.2        2009     USA    Diesel    All-wheel drive        2.0   \n",
       "4          14.4        2009  Europe  Gasoline    All-wheel drive        2.0   \n",
       "\n",
       "   fuel_efficiency_mpg  \n",
       "0            13.231729  \n",
       "1            13.688217  \n",
       "2            14.246341  \n",
       "3            16.912736  \n",
       "4            12.488369  "
      ]
     },
     "execution_count": 4,
     "metadata": {},
     "output_type": "execute_result"
    }
   ],
   "source": [
    "df = pd.read_csv('car_fuel_efficiency.csv')\n",
    "df.head()"
   ]
  },
  {
   "cell_type": "markdown",
   "id": "be9eafbd",
   "metadata": {},
   "source": [
    "## ****Exploratory Data Analysis****"
   ]
  },
  {
   "cell_type": "code",
   "execution_count": 5,
   "id": "415c5cc2",
   "metadata": {},
   "outputs": [
    {
     "data": {
      "text/html": [
       "<div>\n",
       "<style scoped>\n",
       "    .dataframe tbody tr th:only-of-type {\n",
       "        vertical-align: middle;\n",
       "    }\n",
       "\n",
       "    .dataframe tbody tr th {\n",
       "        vertical-align: top;\n",
       "    }\n",
       "\n",
       "    .dataframe thead th {\n",
       "        text-align: right;\n",
       "    }\n",
       "</style>\n",
       "<table border=\"1\" class=\"dataframe\">\n",
       "  <thead>\n",
       "    <tr style=\"text-align: right;\">\n",
       "      <th></th>\n",
       "      <th>engine_displacement</th>\n",
       "      <th>num_cylinders</th>\n",
       "      <th>horsepower</th>\n",
       "      <th>vehicle_weight</th>\n",
       "      <th>acceleration</th>\n",
       "      <th>model_year</th>\n",
       "      <th>origin</th>\n",
       "      <th>fuel_type</th>\n",
       "      <th>drivetrain</th>\n",
       "      <th>num_doors</th>\n",
       "      <th>fuel_efficiency_mpg</th>\n",
       "    </tr>\n",
       "  </thead>\n",
       "  <tbody>\n",
       "    <tr>\n",
       "      <th>0</th>\n",
       "      <td>170</td>\n",
       "      <td>3.0</td>\n",
       "      <td>159.0</td>\n",
       "      <td>3413.433759</td>\n",
       "      <td>17.7</td>\n",
       "      <td>2003</td>\n",
       "      <td>Europe</td>\n",
       "      <td>Gasoline</td>\n",
       "      <td>All-wheel drive</td>\n",
       "      <td>0.0</td>\n",
       "      <td>13.231729</td>\n",
       "    </tr>\n",
       "    <tr>\n",
       "      <th>1</th>\n",
       "      <td>130</td>\n",
       "      <td>5.0</td>\n",
       "      <td>97.0</td>\n",
       "      <td>3149.664934</td>\n",
       "      <td>17.8</td>\n",
       "      <td>2007</td>\n",
       "      <td>USA</td>\n",
       "      <td>Gasoline</td>\n",
       "      <td>Front-wheel drive</td>\n",
       "      <td>0.0</td>\n",
       "      <td>13.688217</td>\n",
       "    </tr>\n",
       "    <tr>\n",
       "      <th>2</th>\n",
       "      <td>170</td>\n",
       "      <td>NaN</td>\n",
       "      <td>78.0</td>\n",
       "      <td>3079.038997</td>\n",
       "      <td>15.1</td>\n",
       "      <td>2018</td>\n",
       "      <td>Europe</td>\n",
       "      <td>Gasoline</td>\n",
       "      <td>Front-wheel drive</td>\n",
       "      <td>0.0</td>\n",
       "      <td>14.246341</td>\n",
       "    </tr>\n",
       "    <tr>\n",
       "      <th>3</th>\n",
       "      <td>220</td>\n",
       "      <td>4.0</td>\n",
       "      <td>NaN</td>\n",
       "      <td>2542.392402</td>\n",
       "      <td>20.2</td>\n",
       "      <td>2009</td>\n",
       "      <td>USA</td>\n",
       "      <td>Diesel</td>\n",
       "      <td>All-wheel drive</td>\n",
       "      <td>2.0</td>\n",
       "      <td>16.912736</td>\n",
       "    </tr>\n",
       "    <tr>\n",
       "      <th>4</th>\n",
       "      <td>210</td>\n",
       "      <td>1.0</td>\n",
       "      <td>140.0</td>\n",
       "      <td>3460.870990</td>\n",
       "      <td>14.4</td>\n",
       "      <td>2009</td>\n",
       "      <td>Europe</td>\n",
       "      <td>Gasoline</td>\n",
       "      <td>All-wheel drive</td>\n",
       "      <td>2.0</td>\n",
       "      <td>12.488369</td>\n",
       "    </tr>\n",
       "  </tbody>\n",
       "</table>\n",
       "</div>"
      ],
      "text/plain": [
       "   engine_displacement  num_cylinders  horsepower  vehicle_weight  \\\n",
       "0                  170            3.0       159.0     3413.433759   \n",
       "1                  130            5.0        97.0     3149.664934   \n",
       "2                  170            NaN        78.0     3079.038997   \n",
       "3                  220            4.0         NaN     2542.392402   \n",
       "4                  210            1.0       140.0     3460.870990   \n",
       "\n",
       "   acceleration  model_year  origin fuel_type         drivetrain  num_doors  \\\n",
       "0          17.7        2003  Europe  Gasoline    All-wheel drive        0.0   \n",
       "1          17.8        2007     USA  Gasoline  Front-wheel drive        0.0   \n",
       "2          15.1        2018  Europe  Gasoline  Front-wheel drive        0.0   \n",
       "3          20.2        2009     USA    Diesel    All-wheel drive        2.0   \n",
       "4          14.4        2009  Europe  Gasoline    All-wheel drive        2.0   \n",
       "\n",
       "   fuel_efficiency_mpg  \n",
       "0            13.231729  \n",
       "1            13.688217  \n",
       "2            14.246341  \n",
       "3            16.912736  \n",
       "4            12.488369  "
      ]
     },
     "execution_count": 5,
     "metadata": {},
     "output_type": "execute_result"
    }
   ],
   "source": [
    "df.columns = df.columns.str.lower().str.replace(' ', '_')\n",
    "df.head()"
   ]
  },
  {
   "cell_type": "code",
   "execution_count": 6,
   "id": "4193393d",
   "metadata": {},
   "outputs": [
    {
     "data": {
      "text/plain": [
       "['origin', 'fuel_type', 'drivetrain']"
      ]
     },
     "execution_count": 6,
     "metadata": {},
     "output_type": "execute_result"
    }
   ],
   "source": [
    "strings = list(df.dtypes[df.dtypes == 'object'].index)\n",
    "strings"
   ]
  },
  {
   "cell_type": "code",
   "execution_count": 7,
   "id": "eca40ffd",
   "metadata": {},
   "outputs": [
    {
     "name": "stdout",
     "output_type": "stream",
     "text": [
      "For column engine_displacement: [170 130 220 210 190] \n",
      "\n",
      "For column num_cylinders: [ 3.  5. nan  4.  1.] \n",
      "\n",
      "For column horsepower: [159.  97.  78.  nan 140.] \n",
      "\n",
      "For column vehicle_weight: [3413.43375861 3149.66493422 3079.03899737 2542.39240183 3460.87098999] \n",
      "\n",
      "For column acceleration: [17.7 17.8 15.1 20.2 14.4] \n",
      "\n",
      "For column model_year: [2003 2007 2018 2009 2008] \n",
      "\n",
      "For column origin: ['Europe' 'USA' 'Asia'] \n",
      "\n",
      "For column fuel_type: ['Gasoline' 'Diesel'] \n",
      "\n",
      "For column drivetrain: ['All-wheel drive' 'Front-wheel drive'] \n",
      "\n",
      "For column num_doors: [ 0.  2. -1.  1. nan] \n",
      "\n",
      "For column fuel_efficiency_mpg: [13.23172891 13.68821744 14.246341   16.9127356  12.48836912] \n",
      "\n"
     ]
    }
   ],
   "source": [
    "for col in df.columns:\n",
    "    print(f\"For column {col}: {df[col].unique()[:5]} \\n\")"
   ]
  },
  {
   "cell_type": "code",
   "execution_count": 8,
   "id": "26db672b",
   "metadata": {},
   "outputs": [],
   "source": [
    "usedFeats = df[['engine_displacement', 'horsepower', 'vehicle_weight', \n",
    "                'model_year', 'fuel_efficiency_mpg']]"
   ]
  },
  {
   "cell_type": "markdown",
   "id": "cf291ae8",
   "metadata": {},
   "source": [
    "### Distribution of fuel_efficiency_mpg "
   ]
  },
  {
   "cell_type": "code",
   "execution_count": 9,
   "id": "d33fe11c",
   "metadata": {},
   "outputs": [
    {
     "data": {
      "text/plain": [
       "<seaborn.axisgrid.FacetGrid at 0x1b278845fa0>"
      ]
     },
     "execution_count": 9,
     "metadata": {},
     "output_type": "execute_result"
    },
    {
     "data": {
      "text/plain": [
       "<Figure size 1500x800 with 0 Axes>"
      ]
     },
     "metadata": {},
     "output_type": "display_data"
    },
    {
     "data": {
      "image/png": "[encoded data removed]",
      "text/plain": [
       "<Figure size 500x500 with 1 Axes>"
      ]
     },
     "metadata": {},
     "output_type": "display_data"
    }
   ],
   "source": [
    "plt.figure(figsize=(15, 8))\n",
    "sns.displot(usedFeats.fuel_efficiency_mpg , bins=50)"
   ]
  },
  {
   "cell_type": "markdown",
   "id": "0a01b17c",
   "metadata": {},
   "source": [
    "### Missing Values"
   ]
  },
  {
   "cell_type": "code",
   "execution_count": 10,
   "id": "1560376c",
   "metadata": {},
   "outputs": [
    {
     "data": {
      "text/plain": [
       "engine_displacement      0\n",
       "horsepower             708\n",
       "vehicle_weight           0\n",
       "model_year               0\n",
       "fuel_efficiency_mpg      0\n",
       "dtype: int64"
      ]
     },
     "execution_count": 10,
     "metadata": {},
     "output_type": "execute_result"
    }
   ],
   "source": [
    "usedFeats.isna().sum()"
   ]
  },
  {
   "cell_type": "markdown",
   "id": "e028efa8",
   "metadata": {},
   "source": [
    "### Median (50% Percentile) for variable 'horsepower'?"
   ]
  },
  {
   "cell_type": "code",
   "execution_count": 11,
   "id": "9c76c581",
   "metadata": {},
   "outputs": [
    {
     "data": {
      "text/plain": [
       "np.float64(149.0)"
      ]
     },
     "execution_count": 11,
     "metadata": {},
     "output_type": "execute_result"
    }
   ],
   "source": [
    "usedFeats.horsepower.median(skipna=True)"
   ]
  },
  {
   "cell_type": "markdown",
   "id": "8e19f673",
   "metadata": {},
   "source": [
    "### Prepare and split the dataset"
   ]
  },
  {
   "cell_type": "code",
   "execution_count": 12,
   "id": "e2e06de3",
   "metadata": {},
   "outputs": [],
   "source": [
    "def trainValidateTest_Shuffle(df: pd.DataFrame, partitions: float, seed: np.integer):\n",
    "    \"\"\"\n",
    "        This is a function use for splitting dataset into train, validation, and test.\n",
    "        Train: \n",
    "        Validation: \n",
    "        Test: \n",
    "    \"\"\"\n",
    "    \n",
    "    n = len(df)\n",
    "    n_val = int(n * partitions)\n",
    "    n_test = int(n * partitions)\n",
    "    n_train = n - n_val - n_test\n",
    "    \n",
    "    np.random.seed(seed)\n",
    "    idx = np.arange(n)\n",
    "    np.random.shuffle(idx)\n",
    "    \n",
    "    df_train = df.iloc[idx[:n_train]]\n",
    "    df_val = df.iloc[idx[n_train: n_train + n_val]]\n",
    "    df_test = df.iloc[idx[n_train + n_val:]]\n",
    "    \n",
    "    return df_train, df_val, df_test"
   ]
  },
  {
   "cell_type": "code",
   "execution_count": 13,
   "id": "8e24d297",
   "metadata": {},
   "outputs": [],
   "source": [
    "trainSet, valSet, testSet = trainValidateTest_Shuffle(usedFeats, 0.2, 42)"
   ]
  },
  {
   "cell_type": "code",
   "execution_count": 14,
   "id": "bf154046",
   "metadata": {},
   "outputs": [],
   "source": [
    "trainSet = trainSet.reset_index(drop=True)\n",
    "valSet = valSet.reset_index(drop=True)\n",
    "testSet = testSet.reset_index(drop=True)"
   ]
  },
  {
   "cell_type": "code",
   "execution_count": 15,
   "id": "5ae8b851",
   "metadata": {},
   "outputs": [],
   "source": [
    "y_train = np.log1p(trainSet.fuel_efficiency_mpg.values)\n",
    "y_val = np.log1p(valSet.fuel_efficiency_mpg.values)\n",
    "y_test = np.log1p(testSet.fuel_efficiency_mpg.values)\n",
    "\n",
    "del trainSet['fuel_efficiency_mpg']\n",
    "del valSet['fuel_efficiency_mpg']\n",
    "del testSet['fuel_efficiency_mpg']"
   ]
  },
  {
   "cell_type": "code",
   "execution_count": 16,
   "id": "90aaf4ca",
   "metadata": {},
   "outputs": [
    {
     "data": {
      "text/plain": [
       "(      engine_displacement  horsepower  vehicle_weight  model_year\n",
       " 0                     220       144.0     2535.887591        2009\n",
       " 1                     160       141.0     2741.170484        2019\n",
       " 2                     230       155.0     2471.880237        2017\n",
       " 3                     150       206.0     3748.164469        2015\n",
       " 4                     300       111.0     2135.716359        2006\n",
       " ...                   ...         ...             ...         ...\n",
       " 5819                  260       139.0     2606.972984        2009\n",
       " 5820                  280       132.0     4004.214323        2014\n",
       " 5821                  210       152.0     2500.175687        2020\n",
       " 5822                  250       154.0     2254.313245        2002\n",
       " 5823                  210       152.0     2435.203606        2004\n",
       " \n",
       " [5824 rows x 4 columns],\n",
       "       engine_displacement  horsepower  vehicle_weight  model_year\n",
       " 0                     180       112.0     2772.134410        2020\n",
       " 1                     260       138.0     3014.061530        2022\n",
       " 2                     140       181.0     3652.186151        2016\n",
       " 3                     270       105.0     2753.040847        2023\n",
       " 4                     170       224.0     4163.375137        2003\n",
       " ...                   ...         ...             ...         ...\n",
       " 1935                  290       205.0     3403.401496        2019\n",
       " 1936                  200       159.0     2752.516039        2009\n",
       " 1937                  230       202.0     3303.000688        2008\n",
       " 1938                  220       169.0     3293.420251        2008\n",
       " 1939                  200       117.0     2692.781292        2004\n",
       " \n",
       " [1940 rows x 4 columns],\n",
       "       engine_displacement  horsepower  vehicle_weight  model_year\n",
       " 0                     140       148.0     2704.826005        2017\n",
       " 1                     210       136.0     3001.227490        2004\n",
       " 2                     210       152.0     3747.467392        2021\n",
       " 3                     190       128.0     2705.833636        2014\n",
       " 4                     230       156.0     2505.939657        2005\n",
       " ...                   ...         ...             ...         ...\n",
       " 1935                  210       163.0     1972.029124        2011\n",
       " 1936                  160       126.0     3011.588014        2009\n",
       " 1937                  290       187.0     2440.508039        2019\n",
       " 1938                  260       129.0     1865.404480        2019\n",
       " 1939                  270       147.0     2611.939500        2017\n",
       " \n",
       " [1940 rows x 4 columns])"
      ]
     },
     "execution_count": 16,
     "metadata": {},
     "output_type": "execute_result"
    }
   ],
   "source": [
    "trainSet, valSet, testSet"
   ]
  },
  {
   "cell_type": "code",
   "execution_count": 17,
   "id": "83831e75",
   "metadata": {},
   "outputs": [
    {
     "data": {
      "text/plain": [
       "(array([2.8703359 , 2.85061269, 2.97511223, ..., 2.92279789, 2.99201277,\n",
       "        2.94261017], shape=(5824,)),\n",
       " array([2.79522685, 2.74734667, 2.58377354, ..., 2.68192023, 2.69011317,\n",
       "        2.82233377], shape=(1940,)),\n",
       " array([2.82163803, 2.72604557, 2.54540897, ..., 2.96550163, 3.06816735,\n",
       "        2.88011043], shape=(1940,)))"
      ]
     },
     "execution_count": 17,
     "metadata": {},
     "output_type": "execute_result"
    }
   ],
   "source": [
    "y_train, y_val, y_test"
   ]
  },
  {
   "cell_type": "markdown",
   "id": "5926dd94",
   "metadata": {},
   "source": [
    "## **Comparison of Mean Imputation and Zero Imputation**"
   ]
  },
  {
   "cell_type": "code",
   "execution_count": 18,
   "id": "b656e045",
   "metadata": {},
   "outputs": [],
   "source": [
    "def prepareX(df : pd.DataFrame, fillna : str = 'zero'):\n",
    "    \n",
    "    df_copy = df.copy()\n",
    "\n",
    "    if fillna.lower() == 'zero':\n",
    "        df_copy.horsepower = df_copy.horsepower.fillna(0)\n",
    "    elif fillna.lower() == 'mean':\n",
    "        df_copy.horsepower = df_copy.horsepower.fillna(df_copy.horsepower.mean())\n",
    "\n",
    "    X = df_copy.values\n",
    "\n",
    "    return X\n",
    "\n",
    "def trainingLinearRegression(X, y):\n",
    "    ones = np.ones(X.shape[0])\n",
    "    X = np.column_stack([ones, X])\n",
    "\n",
    "    XTX = X.T.dot(X)\n",
    "    XTX_inv = np.linalg.inv(XTX)\n",
    "    XTX.dot(XTX_inv).round(1) # This is an example of the approximated matrix\n",
    "\n",
    "    w_full = XTX_inv.dot(X.T).dot(y)\n",
    "    w0 = w_full[0]\n",
    "    w_sub = w_full[1:]\n",
    "    \n",
    "    return w0, w_sub\n",
    "\n",
    "def RMSE(y, y_pred):\n",
    "    se = (y - y_pred) ** 2\n",
    "    mse = se.mean()\n",
    "    return np.sqrt(mse)"
   ]
  },
  {
   "cell_type": "markdown",
   "id": "c714506b",
   "metadata": {},
   "source": [
    "### Zero Imputation"
   ]
  },
  {
   "cell_type": "code",
   "execution_count": 19,
   "id": "7c2cc842",
   "metadata": {},
   "outputs": [
    {
     "data": {
      "text/plain": [
       "engine_displacement    0\n",
       "horsepower             0\n",
       "vehicle_weight         0\n",
       "model_year             0\n",
       "dtype: int64"
      ]
     },
     "execution_count": 19,
     "metadata": {},
     "output_type": "execute_result"
    }
   ],
   "source": [
    "X_train_zero = prepareX(trainSet, fillna='zero')\n",
    "pd.DataFrame(X_train_zero, columns=['engine_displacement', 'horsepower', 'vehicle_weight', 'model_year']).isna().sum()"
   ]
  },
  {
   "cell_type": "code",
   "execution_count": 20,
   "id": "bd4bd8c0",
   "metadata": {},
   "outputs": [
    {
     "data": {
      "text/plain": [
       "np.float64(0.04)"
      ]
     },
     "execution_count": 20,
     "metadata": {},
     "output_type": "execute_result"
    }
   ],
   "source": [
    "w0, w = trainingLinearRegression(X_train_zero, y_train)\n",
    "\n",
    "X_val_zero = prepareX(valSet, fillna='zero')\n",
    "y_pred_zero = w0 + X_val_zero.dot(w)\n",
    "\n",
    "np.round(RMSE(y_val, y_pred_zero), 2)"
   ]
  },
  {
   "cell_type": "code",
   "execution_count": 21,
   "id": "9a8d5f5e",
   "metadata": {},
   "outputs": [
    {
     "data": {
      "text/plain": [
       "<Axes: ylabel='Count'>"
      ]
     },
     "execution_count": 21,
     "metadata": {},
     "output_type": "execute_result"
    },
    {
     "data": {
      "image/png": "[encoded data removed]",
      "text/plain": [
       "<Figure size 640x480 with 1 Axes>"
      ]
     },
     "metadata": {},
     "output_type": "display_data"
    }
   ],
   "source": [
    "sns.histplot(y_pred_zero, color='red', alpha=.5, bins=50)\n",
    "sns.histplot(y_val, color='blue', alpha=.5, bins=50)"
   ]
  },
  {
   "cell_type": "markdown",
   "id": "e5375830",
   "metadata": {},
   "source": [
    "## Mean Imputation"
   ]
  },
  {
   "cell_type": "code",
   "execution_count": 22,
   "id": "142a31b1",
   "metadata": {},
   "outputs": [
    {
     "data": {
      "text/plain": [
       "array([[ 220.        ,  144.        , 2535.88759124, 2009.        ],\n",
       "       [ 160.        ,  141.        , 2741.17048439, 2019.        ],\n",
       "       [ 230.        ,  155.        , 2471.88023726, 2017.        ],\n",
       "       ...,\n",
       "       [ 210.        ,  152.        , 2500.17568746, 2020.        ],\n",
       "       [ 250.        ,  154.        , 2254.31324473, 2002.        ],\n",
       "       [ 210.        ,  152.        , 2435.20360628, 2004.        ]],\n",
       "      shape=(5824, 4))"
      ]
     },
     "execution_count": 22,
     "metadata": {},
     "output_type": "execute_result"
    }
   ],
   "source": [
    "X_train_mean = prepareX(trainSet, fillna='mean')\n",
    "X_train_mean"
   ]
  },
  {
   "cell_type": "code",
   "execution_count": 23,
   "id": "be8e1466",
   "metadata": {},
   "outputs": [
    {
     "data": {
      "text/plain": [
       "np.float64(0.04)"
      ]
     },
     "execution_count": 23,
     "metadata": {},
     "output_type": "execute_result"
    }
   ],
   "source": [
    "w0, w = trainingLinearRegression(X_train_mean, y_train)\n",
    "\n",
    "X_val_mean = prepareX(valSet, fillna='mean')\n",
    "y_pred_mean = w0 + X_val_mean.dot(w)\n",
    "\n",
    "np.round(RMSE(y_val, y_pred_mean), 2)"
   ]
  },
  {
   "cell_type": "code",
   "execution_count": 24,
   "id": "f76496db",
   "metadata": {},
   "outputs": [
    {
     "data": {
      "text/plain": [
       "<Axes: ylabel='Count'>"
      ]
     },
     "execution_count": 24,
     "metadata": {},
     "output_type": "execute_result"
    },
    {
     "data": {
      "image/png": "[encoded data removed]",
      "text/plain": [
       "<Figure size 640x480 with 1 Axes>"
      ]
     },
     "metadata": {},
     "output_type": "display_data"
    }
   ],
   "source": [
    "sns.histplot(y_pred_mean, color='red', alpha=.5, bins=50)\n",
    "sns.histplot(y_val, color='blue', alpha=.5, bins=50)"
   ]
  }
 ],
 "metadata": {
  "kernelspec": {
   "display_name": "ml-journey",
   "language": "python",
   "name": "python3"
  },
  "language_info": {
   "codemirror_mode": {
    "name": "ipython",
    "version": 3
   },
   "file_extension": ".py",
   "mimetype": "text/x-python",
   "name": "python",
   "nbconvert_exporter": "python",
   "pygments_lexer": "ipython3",
   "version": "3.12.11"
  }
 },
 "nbformat": 4,
 "nbformat_minor": 5
}
