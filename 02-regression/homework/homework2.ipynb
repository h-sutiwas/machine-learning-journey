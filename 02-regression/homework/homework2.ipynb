{
 "cells": [
  {
   "cell_type": "markdown",
   "id": "d30b1548",
   "metadata": {},
   "source": [
    "# **Homework 2**"
   ]
  },
  {
   "cell_type": "code",
   "execution_count": null,
   "id": "430f70bc",
   "metadata": {},
   "outputs": [],
   "source": [
    "import pandas as pd\n",
    "import numpy as np\n",
    "import matplotlib.pyplot as plt\n",
    "import seaborn as sns\n",
    "\n",
    "import requests, urllib\n",
    "from tqdm import tqdm\n",
    "\n",
    "import warnings\n",
    "warnings.filterwarnings('ignore')"
   ]
  },
  {
   "cell_type": "code",
   "execution_count": null,
   "id": "7348b4e0",
   "metadata": {},
   "outputs": [],
   "source": [
    "url = \"https://raw.githubusercontent.com/alexeygrigorev/datasets/master/car_fuel_efficiency.csv\"\n",
    "resp = requests.get(url)\n",
    "car_fuel_efficiency_data = resp.content"
   ]
  },
  {
   "cell_type": "code",
   "execution_count": null,
   "id": "94bb2608",
   "metadata": {},
   "outputs": [],
   "source": [
    "csv_file = open('car_fuel_efficiency.csv', 'wb')\n",
    "csv_file.write(car_fuel_efficiency_data)"
   ]
  }
 ],
 "metadata": {
  "kernelspec": {
   "display_name": "ml-journey",
   "language": "python",
   "name": "python3"
  },
  "language_info": {
   "name": "python",
   "version": "3.12.11"
  }
 },
 "nbformat": 4,
 "nbformat_minor": 5
}
