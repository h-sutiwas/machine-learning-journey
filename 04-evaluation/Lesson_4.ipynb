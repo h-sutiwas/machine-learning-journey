{
 "cells": [
  {
   "cell_type": "markdown",
   "id": "e39f0fd3",
   "metadata": {},
   "source": [
    "# **Evaluation Metrics for Classification**"
   ]
  },
  {
   "cell_type": "code",
   "execution_count": null,
   "id": "29d075b3",
   "metadata": {},
   "outputs": [],
   "source": []
  }
 ],
 "metadata": {
  "kernelspec": {
   "display_name": "ml-journey",
   "language": "python",
   "name": "python3"
  },
  "language_info": {
   "name": "python",
   "version": "3.12.11"
  }
 },
 "nbformat": 4,
 "nbformat_minor": 5
}
